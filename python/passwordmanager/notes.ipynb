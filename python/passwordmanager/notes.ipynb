{
 "cells": [
  {
   "cell_type": "markdown",
   "metadata": {},
   "source": [
    "# Even Fibonacci Numbers    (Problem 2)"
   ]
  },
  {
   "cell_type": "code",
   "execution_count": 2,
   "metadata": {},
   "outputs": [
    {
     "name": "stdout",
     "output_type": "stream",
     "text": [
      "4613732\n"
     ]
    }
   ],
   "source": [
    "n1 = 1\n",
    "n2 = 2\n",
    "result = 0\n",
    "total = 0\n",
    "while n2 < 4000000:\n",
    "    result = n1 + n2\n",
    "    if n2 % 2 == 0:\n",
    "        total += n2\n",
    "    n1 = n2\n",
    "    n2 = result\n",
    "print(total)"
   ]
  },
  {
   "cell_type": "markdown",
   "metadata": {},
   "source": [
    "# project euler problem 3"
   ]
  },
  {
   "cell_type": "code",
   "execution_count": 3,
   "metadata": {},
   "outputs": [
    {
     "name": "stdout",
     "output_type": "stream",
     "text": [
      "29\n"
     ]
    }
   ],
   "source": [
    "\"\"\"project euler problem 3\n",
    "\"\"\"\n",
    "Large_number = int(input(\"Enter a number: \"))\n",
    "\n",
    "for i in range( Large_number // 2, 1, -1):\n",
    "    if (Large_number % i == 0):\n",
    "        is_prime = True\n",
    "        large_factor = i\n",
    "        number = 2\n",
    "        while  number <= large_factor // 2:\n",
    "            if large_factor % number == 0:\n",
    "                is_prime = False\n",
    "                break\n",
    "            number += 1\n",
    "        if is_prime:\n",
    "            large_prime_factor =large_factor\n",
    "            break\n",
    "print(large_prime_factor)\n"
   ]
  },
  {
   "cell_type": "markdown",
   "metadata": {},
   "source": [
    "# project euler problem 5"
   ]
  },
  {
   "cell_type": "code",
   "execution_count": 3,
   "metadata": {},
   "outputs": [
    {
     "name": "stdout",
     "output_type": "stream",
     "text": [
      "2520\n"
     ]
    }
   ],
   "source": [
    "import math\n",
    "Large_number = int(input(\"Enter a number: \"))\n",
    "maximum = math.factorial(Large_number)\n",
    "for number in range(Large_number, maximum + 1, Large_number):\n",
    "    is_divisible_by_all = True\n",
    "    for index in range (2, Large_number+1):\n",
    "        if number % index != 0:\n",
    "            is_divisible_by_all = False\n",
    "            break\n",
    "    if is_divisible_by_all:\n",
    "        print(number)\n",
    "        break\n"
   ]
  },
  {
   "cell_type": "code",
   "execution_count": 1,
   "metadata": {},
   "outputs": [
    {
     "name": "stdout",
     "output_type": "stream",
     "text": [
      "2520\n"
     ]
    }
   ],
   "source": [
    "\"\"\"eulers 5th problem solution\"\"\"\n",
    "import math\n",
    "Large_number = int(input(\"Enter a number: \"))\n",
    "maximum = math.factorial(Large_number)\n",
    "for number in range(Large_number, maximum + 1, Large_number):\n",
    "    for index in range (2, Large_number+1):\n",
    "        if number % index != 0:\n",
    "            break\n",
    "    else:               # use else instead of bool(is_true)\n",
    "        print(number)   # if else used with for the for will loop completly first\n",
    "        break"
   ]
  }
 ],
 "metadata": {
  "kernelspec": {
   "display_name": "Python 3",
   "language": "python",
   "name": "python3"
  },
  "language_info": {
   "codemirror_mode": {
    "name": "ipython",
    "version": 3
   },
   "file_extension": ".py",
   "mimetype": "text/x-python",
   "name": "python",
   "nbconvert_exporter": "python",
   "pygments_lexer": "ipython3",
   "version": "3.12.5"
  }
 },
 "nbformat": 4,
 "nbformat_minor": 2
}
